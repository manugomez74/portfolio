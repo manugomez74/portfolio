#  Importar librerías básicas

import pandas as pd
import numpy as np
import random
from datetime import datetime, timedelta

# Parámetros del dataset

num_orders = 1000  # número de filas
product_categories = ['Electrónica', 'Hogar', 'Ropa', 'Alimentación', 'Juguetes']
regions = ['Norte', 'Sur', 'Este', 'Oeste']
store_channels = ['Online', 'Tienda física']
customer_segments = ['VIP', 'Frecuente', 'Nuevo']

# Fechas aleatorias dentro de un año

start_date = datetime(2024, 1, 1)
end_date = datetime(2024, 12, 31)

def random_date(start, end):
    return start + timedelta(days=random.randint(0, (end-start).days))

data = pd.DataFrame({
    'OrderID': range(1, num_orders+1),
    'Date': [random_date(start_date, end_date) for _ in range(num_orders)],
    'CustomerID': np.random.randint(1000, 1100, size=num_orders),
    'CustomerSegment': np.random.choice(customer_segments, size=num_orders),
    'Region': np.random.choice(regions, size=num_orders),
    'StoreChannel': np.random.choice(store_channels, size=num_orders),
    'ProductID': np.random.randint(1, 50, size=num_orders),
    'ProductCategory': np.random.choice(product_categories, size=num_orders),
    'Quantity': np.random.randint(1, 10, size=num_orders),
    'UnitPrice': np.round(np.random.uniform(5.0, 500.0, size=num_orders), 2),
    'Discount': np.round(np.random.uniform(0, 50.0, size=num_orders), 2),
    'Cost': np.round(np.random.uniform(2.0, 300.0, size=num_orders), 2)
})

# Calcular profit
data['Profit'] = (data['UnitPrice'] - data['Cost']) * data['Quantity'] - data['Discount']

# Añadir ReturnFlag con 10% de probabilidad
data['ReturnFlag'] = np.random.choice([True, False], size=num_orders, p=[0.1, 0.9])

# Guardar dataset en /data
data.to_csv('../data/retail_sales_dataset.csv', index=False)

